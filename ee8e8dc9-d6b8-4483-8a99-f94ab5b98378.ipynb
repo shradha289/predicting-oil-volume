{
 "cells": [
  {
   "cell_type": "code",
   "execution_count": 120,
   "metadata": {},
   "outputs": [],
   "source": [
    "import pandas as pd\n",
    "from sklearn.preprocessing import StandardScaler\n",
    "from sklearn.model_selection import train_test_split\n",
    "from sklearn.linear_model import LinearRegression\n",
    "from sklearn.metrics import mean_squared_error\n",
    "from numpy.random import RandomState"
   ]
  },
  {
   "cell_type": "markdown",
   "metadata": {},
   "source": [
    "### Step 1: Downloading and preparing data "
   ]
  },
  {
   "cell_type": "code",
   "execution_count": 121,
   "metadata": {},
   "outputs": [
    {
     "data": {
      "text/html": [
       "<div>\n",
       "<style scoped>\n",
       "    .dataframe tbody tr th:only-of-type {\n",
       "        vertical-align: middle;\n",
       "    }\n",
       "\n",
       "    .dataframe tbody tr th {\n",
       "        vertical-align: top;\n",
       "    }\n",
       "\n",
       "    .dataframe thead th {\n",
       "        text-align: right;\n",
       "    }\n",
       "</style>\n",
       "<table border=\"1\" class=\"dataframe\">\n",
       "  <thead>\n",
       "    <tr style=\"text-align: right;\">\n",
       "      <th></th>\n",
       "      <th>id</th>\n",
       "      <th>f0</th>\n",
       "      <th>f1</th>\n",
       "      <th>f2</th>\n",
       "      <th>product</th>\n",
       "    </tr>\n",
       "  </thead>\n",
       "  <tbody>\n",
       "    <tr>\n",
       "      <td>0</td>\n",
       "      <td>txEyH</td>\n",
       "      <td>0.705745</td>\n",
       "      <td>-0.497823</td>\n",
       "      <td>1.221170</td>\n",
       "      <td>105.280062</td>\n",
       "    </tr>\n",
       "    <tr>\n",
       "      <td>1</td>\n",
       "      <td>2acmU</td>\n",
       "      <td>1.334711</td>\n",
       "      <td>-0.340164</td>\n",
       "      <td>4.365080</td>\n",
       "      <td>73.037750</td>\n",
       "    </tr>\n",
       "    <tr>\n",
       "      <td>2</td>\n",
       "      <td>409Wp</td>\n",
       "      <td>1.022732</td>\n",
       "      <td>0.151990</td>\n",
       "      <td>1.419926</td>\n",
       "      <td>85.265647</td>\n",
       "    </tr>\n",
       "    <tr>\n",
       "      <td>3</td>\n",
       "      <td>iJLyR</td>\n",
       "      <td>-0.032172</td>\n",
       "      <td>0.139033</td>\n",
       "      <td>2.978566</td>\n",
       "      <td>168.620776</td>\n",
       "    </tr>\n",
       "    <tr>\n",
       "      <td>4</td>\n",
       "      <td>Xdl7t</td>\n",
       "      <td>1.988431</td>\n",
       "      <td>0.155413</td>\n",
       "      <td>4.751769</td>\n",
       "      <td>154.036647</td>\n",
       "    </tr>\n",
       "  </tbody>\n",
       "</table>\n",
       "</div>"
      ],
      "text/plain": [
       "      id        f0        f1        f2     product\n",
       "0  txEyH  0.705745 -0.497823  1.221170  105.280062\n",
       "1  2acmU  1.334711 -0.340164  4.365080   73.037750\n",
       "2  409Wp  1.022732  0.151990  1.419926   85.265647\n",
       "3  iJLyR -0.032172  0.139033  2.978566  168.620776\n",
       "4  Xdl7t  1.988431  0.155413  4.751769  154.036647"
      ]
     },
     "execution_count": 121,
     "metadata": {},
     "output_type": "execute_result"
    }
   ],
   "source": [
    "geo0=pd.read_csv('/datasets/geo_data_0.csv')\n",
    "geo0.head()"
   ]
  },
  {
   "cell_type": "code",
   "execution_count": 122,
   "metadata": {},
   "outputs": [
    {
     "name": "stdout",
     "output_type": "stream",
     "text": [
      "<class 'pandas.core.frame.DataFrame'>\n",
      "RangeIndex: 100000 entries, 0 to 99999\n",
      "Data columns (total 5 columns):\n",
      "id         100000 non-null object\n",
      "f0         100000 non-null float64\n",
      "f1         100000 non-null float64\n",
      "f2         100000 non-null float64\n",
      "product    100000 non-null float64\n",
      "dtypes: float64(4), object(1)\n",
      "memory usage: 3.8+ MB\n"
     ]
    }
   ],
   "source": [
    "geo0.info()"
   ]
  },
  {
   "cell_type": "code",
   "execution_count": 123,
   "metadata": {},
   "outputs": [
    {
     "data": {
      "text/html": [
       "<div>\n",
       "<style scoped>\n",
       "    .dataframe tbody tr th:only-of-type {\n",
       "        vertical-align: middle;\n",
       "    }\n",
       "\n",
       "    .dataframe tbody tr th {\n",
       "        vertical-align: top;\n",
       "    }\n",
       "\n",
       "    .dataframe thead th {\n",
       "        text-align: right;\n",
       "    }\n",
       "</style>\n",
       "<table border=\"1\" class=\"dataframe\">\n",
       "  <thead>\n",
       "    <tr style=\"text-align: right;\">\n",
       "      <th></th>\n",
       "      <th>id</th>\n",
       "      <th>f0</th>\n",
       "      <th>f1</th>\n",
       "      <th>f2</th>\n",
       "      <th>product</th>\n",
       "    </tr>\n",
       "  </thead>\n",
       "  <tbody>\n",
       "    <tr>\n",
       "      <td>0</td>\n",
       "      <td>kBEdx</td>\n",
       "      <td>-15.001348</td>\n",
       "      <td>-8.276000</td>\n",
       "      <td>-0.005876</td>\n",
       "      <td>3.179103</td>\n",
       "    </tr>\n",
       "    <tr>\n",
       "      <td>1</td>\n",
       "      <td>62mP7</td>\n",
       "      <td>14.272088</td>\n",
       "      <td>-3.475083</td>\n",
       "      <td>0.999183</td>\n",
       "      <td>26.953261</td>\n",
       "    </tr>\n",
       "    <tr>\n",
       "      <td>2</td>\n",
       "      <td>vyE1P</td>\n",
       "      <td>6.263187</td>\n",
       "      <td>-5.948386</td>\n",
       "      <td>5.001160</td>\n",
       "      <td>134.766305</td>\n",
       "    </tr>\n",
       "    <tr>\n",
       "      <td>3</td>\n",
       "      <td>KcrkZ</td>\n",
       "      <td>-13.081196</td>\n",
       "      <td>-11.506057</td>\n",
       "      <td>4.999415</td>\n",
       "      <td>137.945408</td>\n",
       "    </tr>\n",
       "    <tr>\n",
       "      <td>4</td>\n",
       "      <td>AHL4O</td>\n",
       "      <td>12.702195</td>\n",
       "      <td>-8.147433</td>\n",
       "      <td>5.004363</td>\n",
       "      <td>134.766305</td>\n",
       "    </tr>\n",
       "  </tbody>\n",
       "</table>\n",
       "</div>"
      ],
      "text/plain": [
       "      id         f0         f1        f2     product\n",
       "0  kBEdx -15.001348  -8.276000 -0.005876    3.179103\n",
       "1  62mP7  14.272088  -3.475083  0.999183   26.953261\n",
       "2  vyE1P   6.263187  -5.948386  5.001160  134.766305\n",
       "3  KcrkZ -13.081196 -11.506057  4.999415  137.945408\n",
       "4  AHL4O  12.702195  -8.147433  5.004363  134.766305"
      ]
     },
     "execution_count": 123,
     "metadata": {},
     "output_type": "execute_result"
    }
   ],
   "source": [
    "geo1=pd.read_csv('/datasets/geo_data_1.csv')\n",
    "geo1.head()"
   ]
  },
  {
   "cell_type": "code",
   "execution_count": 124,
   "metadata": {},
   "outputs": [
    {
     "name": "stdout",
     "output_type": "stream",
     "text": [
      "<class 'pandas.core.frame.DataFrame'>\n",
      "RangeIndex: 100000 entries, 0 to 99999\n",
      "Data columns (total 5 columns):\n",
      "id         100000 non-null object\n",
      "f0         100000 non-null float64\n",
      "f1         100000 non-null float64\n",
      "f2         100000 non-null float64\n",
      "product    100000 non-null float64\n",
      "dtypes: float64(4), object(1)\n",
      "memory usage: 3.8+ MB\n"
     ]
    }
   ],
   "source": [
    "geo1.info()"
   ]
  },
  {
   "cell_type": "code",
   "execution_count": 125,
   "metadata": {},
   "outputs": [
    {
     "data": {
      "text/html": [
       "<div>\n",
       "<style scoped>\n",
       "    .dataframe tbody tr th:only-of-type {\n",
       "        vertical-align: middle;\n",
       "    }\n",
       "\n",
       "    .dataframe tbody tr th {\n",
       "        vertical-align: top;\n",
       "    }\n",
       "\n",
       "    .dataframe thead th {\n",
       "        text-align: right;\n",
       "    }\n",
       "</style>\n",
       "<table border=\"1\" class=\"dataframe\">\n",
       "  <thead>\n",
       "    <tr style=\"text-align: right;\">\n",
       "      <th></th>\n",
       "      <th>id</th>\n",
       "      <th>f0</th>\n",
       "      <th>f1</th>\n",
       "      <th>f2</th>\n",
       "      <th>product</th>\n",
       "    </tr>\n",
       "  </thead>\n",
       "  <tbody>\n",
       "    <tr>\n",
       "      <td>0</td>\n",
       "      <td>fwXo0</td>\n",
       "      <td>-1.146987</td>\n",
       "      <td>0.963328</td>\n",
       "      <td>-0.828965</td>\n",
       "      <td>27.758673</td>\n",
       "    </tr>\n",
       "    <tr>\n",
       "      <td>1</td>\n",
       "      <td>WJtFt</td>\n",
       "      <td>0.262778</td>\n",
       "      <td>0.269839</td>\n",
       "      <td>-2.530187</td>\n",
       "      <td>56.069697</td>\n",
       "    </tr>\n",
       "    <tr>\n",
       "      <td>2</td>\n",
       "      <td>ovLUW</td>\n",
       "      <td>0.194587</td>\n",
       "      <td>0.289035</td>\n",
       "      <td>-5.586433</td>\n",
       "      <td>62.871910</td>\n",
       "    </tr>\n",
       "    <tr>\n",
       "      <td>3</td>\n",
       "      <td>q6cA6</td>\n",
       "      <td>2.236060</td>\n",
       "      <td>-0.553760</td>\n",
       "      <td>0.930038</td>\n",
       "      <td>114.572842</td>\n",
       "    </tr>\n",
       "    <tr>\n",
       "      <td>4</td>\n",
       "      <td>WPMUX</td>\n",
       "      <td>-0.515993</td>\n",
       "      <td>1.716266</td>\n",
       "      <td>5.899011</td>\n",
       "      <td>149.600746</td>\n",
       "    </tr>\n",
       "  </tbody>\n",
       "</table>\n",
       "</div>"
      ],
      "text/plain": [
       "      id        f0        f1        f2     product\n",
       "0  fwXo0 -1.146987  0.963328 -0.828965   27.758673\n",
       "1  WJtFt  0.262778  0.269839 -2.530187   56.069697\n",
       "2  ovLUW  0.194587  0.289035 -5.586433   62.871910\n",
       "3  q6cA6  2.236060 -0.553760  0.930038  114.572842\n",
       "4  WPMUX -0.515993  1.716266  5.899011  149.600746"
      ]
     },
     "execution_count": 125,
     "metadata": {},
     "output_type": "execute_result"
    }
   ],
   "source": [
    "geo2=pd.read_csv('/datasets/geo_data_2.csv')\n",
    "geo2.head()"
   ]
  },
  {
   "cell_type": "code",
   "execution_count": 126,
   "metadata": {},
   "outputs": [
    {
     "name": "stdout",
     "output_type": "stream",
     "text": [
      "<class 'pandas.core.frame.DataFrame'>\n",
      "RangeIndex: 100000 entries, 0 to 99999\n",
      "Data columns (total 5 columns):\n",
      "id         100000 non-null object\n",
      "f0         100000 non-null float64\n",
      "f1         100000 non-null float64\n",
      "f2         100000 non-null float64\n",
      "product    100000 non-null float64\n",
      "dtypes: float64(4), object(1)\n",
      "memory usage: 3.8+ MB\n"
     ]
    }
   ],
   "source": [
    "geo2.info()"
   ]
  },
  {
   "cell_type": "markdown",
   "metadata": {},
   "source": [
    "The dataset does not contain any missing or nan values.The data types are correct."
   ]
  },
  {
   "cell_type": "markdown",
   "metadata": {},
   "source": [
    "### Step2:Training models for each region"
   ]
  },
  {
   "cell_type": "code",
   "execution_count": 129,
   "metadata": {},
   "outputs": [],
   "source": [
    "def prepare(data):\n",
    "    features=data.drop(['id','product'],axis=1)\n",
    "    target=data['product']\n",
    "    features_train,features_valid,target_train,target_valid=train_test_split(features,target,test_size=0.25,random_state=12345)\n",
    "    scaler=StandardScaler()\n",
    "    scaler.fit(features_train)\n",
    "    features_train=scaler.transform(features_train)\n",
    "    features_valid=scaler.transform(features_valid)\n",
    "    model=LinearRegression()\n",
    "    model.fit(features_train,target_train)\n",
    "    predicted_valid=model.predict(features_valid)\n",
    "    mse=mean_squared_error(target_valid,predicted_valid)\n",
    "    rmse=mse**0.5\n",
    "    return target_valid,predicted_valid,rmse"
   ]
  },
  {
   "cell_type": "code",
   "execution_count": 131,
   "metadata": {},
   "outputs": [
    {
     "name": "stdout",
     "output_type": "stream",
     "text": [
      "Rmse: 37.5794217150813\n",
      "Average predicted volume of reserve for region 0: 92.59256778438038\n"
     ]
    }
   ],
   "source": [
    "target_valid0,predicted_valid0,rmse0=prepare(geo0)\n",
    "predicted_valid0=pd.Series(predicted_valid0)\n",
    "target_valid0=target_valid0.reset_index()['product']\n",
    "print(\"Rmse:\",rmse0)                                            \n",
    "print(\"Average predicted volume of reserve for region 0:\",predicted_valid0.mean())              "
   ]
  },
  {
   "cell_type": "code",
   "execution_count": 166,
   "metadata": {},
   "outputs": [
    {
     "name": "stdout",
     "output_type": "stream",
     "text": [
      "Rmse: 0.8930992867756158\n",
      "Average predicted volume of reserve for region 1: 68.728546895446\n"
     ]
    }
   ],
   "source": [
    "target_valid1,predicted_valid1,rmse1=prepare(geo1)\n",
    "predicted_valid1=pd.Series(predicted_valid1)\n",
    "target_valid1=target_valid1.reset_index()['product']\n",
    "\n",
    "print(\"Rmse:\",rmse1)                                                \n",
    "print(\"Average predicted volume of reserve for region 1:\",predicted_valid1.mean())      "
   ]
  },
  {
   "cell_type": "code",
   "execution_count": 137,
   "metadata": {},
   "outputs": [
    {
     "name": "stdout",
     "output_type": "stream",
     "text": [
      "Rmse: 40.02970873393434\n",
      "Average predicted volume of reserve for region 2: 94.96504596800489\n"
     ]
    }
   ],
   "source": [
    "target_valid2,predicted_valid2,rmse2=prepare(geo2)\n",
    "predicted_valid2=pd.Series(predicted_valid2)\n",
    "target_valid2=target_valid2.reset_index()['product']\n",
    "\n",
    "print(\"Rmse:\",rmse2)                                                \n",
    "print(\"Average predicted volume of reserve for region 2:\",predicted_valid2.mean())      "
   ]
  },
  {
   "cell_type": "markdown",
   "metadata": {},
   "source": [
    "The lowest rmse is for geo_1 ,0.89. This rmse is very small compared to the rmse for other two regions which is 37.58 for region 0 and 40.03 for region 2.The average predicted volume of reserves is also the smallest for region 1 which means that region 1 contains a high proportion of small values for product.  "
   ]
  },
  {
   "cell_type": "markdown",
   "metadata": {},
   "source": [
    "### Step 3: Sufficient volume of reserve, profit calculation "
   ]
  },
  {
   "cell_type": "code",
   "execution_count": 139,
   "metadata": {},
   "outputs": [
    {
     "data": {
      "text/plain": [
       "111.11111111111111"
      ]
     },
     "execution_count": 139,
     "metadata": {},
     "output_type": "execute_result"
    }
   ],
   "source": [
    "#sufficient volume of reserve for no losses\n",
    "cost=100*1000000\n",
    "no_of_wells=200\n",
    "revenue_per_unit=4500\n",
    "volume=cost/no_of_wells/revenue_per_unit\n",
    "volume"
   ]
  },
  {
   "cell_type": "markdown",
   "metadata": {},
   "source": [
    "Sufficient volume of reserve for a new well for no loss is 111."
   ]
  },
  {
   "cell_type": "code",
   "execution_count": 140,
   "metadata": {},
   "outputs": [
    {
     "data": {
      "text/plain": [
       "92.50000000000001"
      ]
     },
     "execution_count": 140,
     "metadata": {},
     "output_type": "execute_result"
    }
   ],
   "source": [
    "#geo_0 average volume of reserve\n",
    "geo0['product'].mean()"
   ]
  },
  {
   "cell_type": "code",
   "execution_count": 141,
   "metadata": {},
   "outputs": [
    {
     "data": {
      "text/plain": [
       "68.82500000000002"
      ]
     },
     "execution_count": 141,
     "metadata": {},
     "output_type": "execute_result"
    }
   ],
   "source": [
    "#geo_1 average volume of reserve\n",
    "geo1['product'].mean()"
   ]
  },
  {
   "cell_type": "code",
   "execution_count": 142,
   "metadata": {},
   "outputs": [
    {
     "data": {
      "text/plain": [
       "95.00000000000004"
      ]
     },
     "execution_count": 142,
     "metadata": {},
     "output_type": "execute_result"
    }
   ],
   "source": [
    "# geo_2 average volume of reserve\n",
    "geo2['product'].mean()"
   ]
  },
  {
   "cell_type": "markdown",
   "metadata": {},
   "source": [
    "The sufficient volume of reserves for no losses is greater than the average volume of reserves in each region.But this volume is closest to the volume of reserve in region 2.Region 1 has lowest average volume of reserve."
   ]
  },
  {
   "cell_type": "markdown",
   "metadata": {},
   "source": [
    "### Sep 4:Profit calculation "
   ]
  },
  {
   "cell_type": "code",
   "execution_count": 148,
   "metadata": {},
   "outputs": [],
   "source": [
    "def profit(target,prediction,cnt):\n",
    "    \n",
    "    #prediction=pd.Series(prediction)\n",
    "    sorted_series=prediction.sort_values(ascending=False)\n",
    "    #print(sorted_series.head())\n",
    "    #target=target.reset_index()['product']\n",
    "    target=target[sorted_series.index][:cnt]\n",
    "    #print(len(target))\n",
    "    rev=(target.sum())*revenue_per_unit\n",
    "    avg=target.mean()\n",
    "    return rev-cost,avg\n",
    "\n",
    "profit0,mean0=profit(target_valid0,predicted_valid0,200)\n",
    "profit1,mean1=profit(target_valid1,predicted_valid1,200)\n",
    "profit2,mean2=profit(target_valid2,predicted_valid2,200)"
   ]
  },
  {
   "cell_type": "code",
   "execution_count": 149,
   "metadata": {},
   "outputs": [
    {
     "name": "stdout",
     "output_type": "stream",
     "text": [
      "Mean volume of reserve for top 200 predictions:\n",
      "region_0: 148.00917825710948\n",
      "region_1: 137.9454077409057\n",
      "region_2: 141.2261107066648\n"
     ]
    }
   ],
   "source": [
    "print('Mean volume of reserve for top 200 predictions:')\n",
    "print('region_0:',mean0)\n",
    "print('region_1:',mean1)\n",
    "print('region_2:',mean2)"
   ]
  },
  {
   "cell_type": "code",
   "execution_count": 150,
   "metadata": {},
   "outputs": [
    {
     "name": "stdout",
     "output_type": "stream",
     "text": [
      "Profit_0: 33208260.431398526\n",
      "Profit_1: 24150866.966815114\n",
      "Profit_2: 27103499.635998324\n"
     ]
    }
   ],
   "source": [
    "print('Profit_0:',profit0)\n",
    "print('Profit_1:',profit1)\n",
    "print('Profit_2:',profit2)"
   ]
  },
  {
   "cell_type": "markdown",
   "metadata": {},
   "source": [
    "Region 0,1,2 all have more volume of reserve than the sufficient volume of reserve.Region 0 seems most profitable."
   ]
  },
  {
   "cell_type": "markdown",
   "metadata": {},
   "source": [
    "### Step 5: Average profit, 95% confidence interval and loss evaluation for each region "
   ]
  },
  {
   "cell_type": "code",
   "execution_count": 152,
   "metadata": {},
   "outputs": [],
   "source": [
    "#risk of loss\n",
    "def risk(res):\n",
    "    cnt=0\n",
    "    for i in range(1000):\n",
    "        if res[i]<0:\n",
    "            cnt+=1\n",
    "    loss=cnt/1000*100\n",
    "    return loss\n"
   ]
  },
  {
   "cell_type": "code",
   "execution_count": 161,
   "metadata": {},
   "outputs": [],
   "source": [
    "state=RandomState(12345)\n",
    "def ci(target,predicted):\n",
    "    #print(len(target))\n",
    "    res=[]\n",
    "    for i in range(1000):\n",
    "        subsample=predicted.sample(n=500,replace=True,random_state=state)\n",
    "        #target_valid0=target_valid0.reset_index()['pro']\n",
    "        target_500=target[subsample.index]\n",
    "        subprofit=profit(target_500,subsample,200)\n",
    "        res.append(subprofit[0])\n",
    "\n",
    "    loss=risk(res)\n",
    "    res=pd.Series(res)\n",
    "    avg=res.mean()\n",
    "    lower=res.quantile(0.025)\n",
    "    upper=res.quantile(0.975)\n",
    "    return avg,lower,upper,loss"
   ]
  },
  {
   "cell_type": "code",
   "execution_count": 162,
   "metadata": {},
   "outputs": [
    {
     "name": "stdout",
     "output_type": "stream",
     "text": [
      "Average profit: 4259385.269105923\n",
      "95% confidence interval for profit is: -1020900.9483793724 , 9479763.533583675\n",
      "% of loss: 6.0\n"
     ]
    }
   ],
   "source": [
    "#for region 0\n",
    "avg0,lower0,upper0,loss0=ci(target_valid0,predicted_valid0)\n",
    "print(\"Average profit:\",avg0)    \n",
    "print(\"95% confidence interval for profit is:\",lower0,\",\",upper0)\n",
    "print(\"% of loss:\",loss0)"
   ]
  },
  {
   "cell_type": "code",
   "execution_count": 163,
   "metadata": {},
   "outputs": [
    {
     "name": "stdout",
     "output_type": "stream",
     "text": [
      "Average profit: 5182594.93697325\n",
      "95% confidence interval for profit is: 1281232.3143308603 , 9536129.820669085\n",
      "% of loss: 0.3\n"
     ]
    }
   ],
   "source": [
    "#for region 1\n",
    "avg1,lower1,upper1,loss1=ci(target_valid1,predicted_valid1)\n",
    "print(\"Average profit:\",avg1)    \n",
    "print(\"95% confidence interval for profit is:\",lower1,\",\",upper1)\n",
    "print(\"% of loss:\",loss1)"
   ]
  },
  {
   "cell_type": "code",
   "execution_count": 164,
   "metadata": {},
   "outputs": [
    {
     "name": "stdout",
     "output_type": "stream",
     "text": [
      "Average profit: 4201940.053440501\n",
      "95% confidence interval for profit is: -1158526.091600102 , 9896299.398445744\n",
      "% of loss: 6.2\n"
     ]
    }
   ],
   "source": [
    "#for region 1\n",
    "avg2,lower2,upper2,loss2=ci(target_valid2,predicted_valid2)\n",
    "print(\"Average profit:\",avg2)    \n",
    "print(\"95% confidence interval for profit is:\",lower2,\",\",upper2)\n",
    "print(\"% of loss:\",loss2)"
   ]
  },
  {
   "cell_type": "markdown",
   "metadata": {},
   "source": [
    "Only for region 1 the loss percentage is less than 2.5% hence it seems the most appropriate option for digging new well out of the three regions.Also it has the highest average profit. "
   ]
  },
  {
   "cell_type": "code",
   "execution_count": 1,
   "metadata": {},
   "outputs": [],
   "source": [
    "from math import log2\n",
    "import matplotlib.pyplot as plt"
   ]
  },
  {
   "cell_type": "code",
   "execution_count": 4,
   "metadata": {},
   "outputs": [
    {
     "data": {
      "text/plain": [
       "([<matplotlib.axis.XTick at 0x7fe0bae510d0>,\n",
       "  <matplotlib.axis.XTick at 0x7fe0bae4c690>,\n",
       "  <matplotlib.axis.XTick at 0x7fe0bae4c490>,\n",
       "  <matplotlib.axis.XTick at 0x7fe0badfa3d0>,\n",
       "  <matplotlib.axis.XTick at 0x7fe0badfa910>,\n",
       "  <matplotlib.axis.XTick at 0x7fe0badfaf10>],\n",
       " <a list of 6 Text xticklabel objects>)"
      ]
     },
     "execution_count": 4,
     "metadata": {},
     "output_type": "execute_result"
    },
    {
     "data": {
      "image/png": "[encoded data removed]",
      "text/plain": [
       "<Figure size 432x288 with 1 Axes>"
      ]
     },
     "metadata": {
      "needs_background": "light"
     },
     "output_type": "display_data"
    }
   ],
   "source": [
    "def entropy(events,ets=1e-15):\n",
    "    return -sum([p*log2(p+ets) for p in events])\n",
    "\n",
    "prob=[0,0.1,0.2,0.3,0.4,0.5]\n",
    "dist=[[p,1-p] for p in prob]\n",
    "ent=[entropy(d) for d in dist]\n",
    "plt.plot(prob,ent,marker='.')\n",
    "plt.xticks(prob,[str(d) for d in dist])"
   ]
  },
  {
   "cell_type": "code",
   "execution_count": null,
   "metadata": {},
   "outputs": [],
   "source": []
  }
 ],
 "metadata": {
  "kernelspec": {
   "display_name": "Python 3",
   "language": "python",
   "name": "python3"
  },
  "language_info": {
   "codemirror_mode": {
    "name": "ipython",
    "version": 3
   },
   "file_extension": ".py",
   "mimetype": "text/x-python",
   "name": "python",
   "nbconvert_exporter": "python",
   "pygments_lexer": "ipython3",
   "version": "3.7.8"
  },
  "toc": {
   "base_numbering": 1,
   "nav_menu": {},
   "number_sections": true,
   "sideBar": true,
   "skip_h1_title": true,
   "title_cell": "Table of Contents",
   "title_sidebar": "Contents",
   "toc_cell": false,
   "toc_position": {},
   "toc_section_display": true,
   "toc_window_display": false
  }
 },
 "nbformat": 4,
 "nbformat_minor": 2
}
